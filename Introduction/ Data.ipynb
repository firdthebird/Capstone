{
    "cells": [
        {
            "cell_type": "markdown",
            "metadata": {
                "collapsed": true
            },
            "source": "# Capstone Project: Which City is more Similar\n## By Firdhous Puraliyil\n\n### Introduction\n\nCities have unique traits that define them and give them \u2018names\u2019. For example, Austin is known for it\u2019s uniqueness and weirdness, which how is Austin, TX got the saying \u2018Keep Austin Weird\u2019. This saying got me thinking, I wonder which cities are similar and different from each other. I wonder if Seattle is weird or if it has a more of a Blue Collar Vibe like a working city as Pittsburgh, or if it had the lax atmosphere as a Miami. This led to me come up with my capstone project idea, comparing cities to see which ones are alike. \n\nFirst, I had to choose how many cities I would compare and which cities I would compare. I decided to go with three cities, so I could decisively see which city is similar. The next step was choosing the cities. I choose Austin, because how unique it was. Based on the first selection, I wanted to choose a city that people say are somewhat like Austin, which was Seattle. Lastly, I choose Chicago because I thought it was a city that was not as similar as the other two from word of mouth.\n\nThe next step I had to choose is what categories would I want to compare these cities with. I wanted to have data that regarded the people of these cities as well data that didn\u2019t regard the people of these cities, so the  5 categories I decided to look into  was Cost of Living, Popular Venues, Weather, Population and Health. With these five data sets I will see which city is like each other and which is the outlier among the three.\n\n### Audience\nThe Audience for this project is for other data scientist curious on how to compare cities but also for people to see how similar the cities of Austin, Seattle, and Chicago. It will give an in-depth comparison on how these cities are different or alike but also give them hopefully an eye opener on each of these cities.\n\n### Data\n#### Health searches by US Metropolitan Area, 2005-2017\nhttps://www.kaggle.com/GoogleNewsLab/health-searches-us-county\n\n#### Climate of 100 Selected U.S. Cities\nhttps://www.infoplease.com/math-science/weather/climate-of-100-selected-us-cities\n\n#### Venue\nFoursquare API\n\n#### Cost of Living\nhttps://www.kaggle.com/debdutta/cost-of-living-index-by-country\n\n#### Census\nhttps://www.census.gov/library/publications/2012/dec/c2010sr-01.html\n\n\n\n\n\n### Data Meaning: \n\n#### Health: \nThis data frame shows us the health searches from 2004 to 2017. It scales from 0, being the lowest searches for that disease to 100 which is the most of searches of that disease. This dataset is created through google API and will allow us to understand the health searches of the people from the three cities, giving us an idea of what disease prevails in that area. The Categories are  Diabetes, Cancer, Cardiovascular, Stroke, Rehab, Vaccine, Diarrhea, Obesity\n\n#### Climate: \nThis data frame was retrieved from a website called infoplese. It has the average weather temperature, rainfall  and snowfall for at least 30 years.  This will give us an idea on how similar the weather is between these three cities and which two cities are the most similar.\n\n#### Venue:\nUsing the explore API, I will be retrieving the most popular venue around the city\u2019s mayor/capitol building, so see how similar they are. I got the data using the API call and retrieved the venue\u2019 name, category and location. From there I used a python script to categorize them in 4 main categories, Entertainment, Food & Beverages, Lodging and Other. After that I concatenated all three data frames to one to give me the counts of each main category for each city\n\n#### Cost of Living:\nThis data set is found off Kaggle and it is the cost of living compared to New York. New York is 100 in all the fields, so if something is 120 in cost of living it is 20 % greater than New York. What I will use this data set for is to compare the cost of living among the three cities to New York. The fields are Cost of Living Index, Rent Index, Cost of Living Plus Rent Index, Groceries Index, Restaurant Price Index and Local Purchasing Power Index.\n\n#### Census:\nThe Census Data contains Census data from 2010 and 2000. It has various categories such as population by sex, for both years, by age, local to national ratio, numeric and percent change in population etc. This will be used to compare how the population has changed over time within these three cities.\n\n\n"
        },
        {
            "cell_type": "code",
            "execution_count": null,
            "metadata": {},
            "outputs": [],
            "source": ""
        }
    ],
    "metadata": {
        "kernelspec": {
            "display_name": "Python 3.6",
            "language": "python",
            "name": "python3"
        },
        "language_info": {
            "codemirror_mode": {
                "name": "ipython",
                "version": 3
            },
            "file_extension": ".py",
            "mimetype": "text/x-python",
            "name": "python",
            "nbconvert_exporter": "python",
            "pygments_lexer": "ipython3",
            "version": "3.6.9"
        }
    },
    "nbformat": 4,
    "nbformat_minor": 1
}